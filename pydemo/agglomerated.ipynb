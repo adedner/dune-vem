{
 "cells": [
  {
   "cell_type": "code",
   "execution_count": null,
   "metadata": {
    "collapsed": false,
    "deletable": true,
    "editable": true
   },
   "outputs": [],
   "source": [
    "from __future__ import print_function\n",
    "import math\n",
    "import numpy\n",
    "from scipy.spatial import Voronoi, voronoi_plot_2d, cKDTree"
   ]
  },
  {
   "cell_type": "code",
   "execution_count": null,
   "metadata": {
    "collapsed": false,
    "deletable": true,
    "editable": true
   },
   "outputs": [],
   "source": [
    "from ufl import *\n",
    "import dune.ufl\n",
    "import dune.fem\n",
    "import dune.fem.function as gf\n",
    "from dune.fem.plotting import plotPointData as plot\n",
    "import dune.create as create\n",
    "\n",
    "def error(grid,df, exact):\n",
    "    df_coeff = dune.ufl.GridCoefficient(df)\n",
    "    l2error_gf = create.function(\"ufl\", grid, \"error\", 5,\n",
    "            as_vector([(exact[0]-df_coeff[0])**2]) )\n",
    "    return math.sqrt( l2error_gf.integrate() )"
   ]
  },
  {
   "cell_type": "markdown",
   "metadata": {
    "deletable": true,
    "editable": true
   },
   "source": [
    "The actual agnglomerated method:\n",
    "initialize with the number of voronoi cells to use. The points will be distributed randomly. "
   ]
  },
  {
   "cell_type": "code",
   "execution_count": null,
   "metadata": {
    "collapsed": false,
    "deletable": true,
    "editable": true
   },
   "outputs": [],
   "source": [
    "# http://zderadicka.eu/voronoi-diagrams/\n",
    "from voronoi import triangulated_voronoi\n",
    "class Agglomerate:\n",
    "    def __init__(self,N):\n",
    "        self.ind = set()\n",
    "        self.N = N\n",
    "        self.suffix = str(self.N)\n",
    "        numpy.random.seed(1234)\n",
    "        self.voronoi_points = numpy.random.rand(self.N, 2)\n",
    "        self.voronoi_kdtree = cKDTree(self.voronoi_points)\n",
    "        vor = Voronoi(self.voronoi_points)\n",
    "        voronoi_plot_2d(vor).savefig(\"agglomerate_voronoi\"+self.suffix+\".pdf\", bbox_inches='tight')\n",
    "    def __call__(self,en):\n",
    "        p = en.geometry.center\n",
    "        test_point_dist, test_point_regions = self.voronoi_kdtree.query([p], k=1)\n",
    "        index = test_point_regions[0]\n",
    "        self.ind.add(index)\n",
    "        return index\n",
    "    def check(self):\n",
    "     return len(self.ind)==self.N"
   ]
  },
  {
   "cell_type": "markdown",
   "metadata": {
    "deletable": true,
    "editable": true
   },
   "source": [
    "The method for solving a non linear elliptic problem. Arguments are\n",
    "- grid: the fine grid\n",
    "- agglomerate: a possible agglomeration for the grid\n",
    "- model: the elliptic model to solve\n",
    "- exact: the exact solution used for computing the error\n",
    "- name: a string to use for output\n",
    "- space: the name of the space to ue, e.g., Lagrange or Vem\n",
    "- scheme: the name of the scheme to use, e.g., h1 or Vem\n",
    "\n",
    "Returns the discrete solution and an interpolation of the exact solution."
   ]
  },
  {
   "cell_type": "code",
   "execution_count": null,
   "metadata": {
    "collapsed": false,
    "deletable": true,
    "editable": true
   },
   "outputs": [],
   "source": [
    "def solve(grid,agglomerate,model,exact,name,space,scheme,penalty=None):\n",
    "    print(\"SOLVING: \",name)\n",
    "    gf_exact = create.function(\"ufl\",grid,\"exact\",4,exact)\n",
    "    if agglomerate:\n",
    "        print(\"using agglomerate...\")\n",
    "        spc = create.space(space, grid, agglomerate, dimrange=1, order=1, storage=\"fem\")\n",
    "        # assert agglomerate.check(), \"missing or too many indices provided by agglomoration object. Should be \"+str()+\" was \"+str(len(ind))\n",
    "    else:\n",
    "        spc = create.space(space, grid, dimrange=1, order=1, storage=\"fem\")\n",
    "    interpol = spc.interpolate( gf_exact, \"exact_\"+name )\n",
    "    if penalty:\n",
    "        df,info = create.scheme(scheme, spc, model, penalty).solve(name=name)\n",
    "    else:\n",
    "        df,info = create.scheme(scheme, spc, model).solve(name=name)\n",
    "    print(name+\" size:\",spc.size,\"L2-error:\", error(grid,df,exact), error(grid,interpol,exact),\\\n",
    "          info[\"linear_iterations\"], info[\"iterations\"])\n",
    "    plot(df)\n",
    "    return interpol, df"
   ]
  },
  {
   "cell_type": "markdown",
   "metadata": {
    "deletable": true,
    "editable": true
   },
   "source": [
    "The actual algorithm taking the agglomeration object and solving on a (agglomeratied) simplex grid with both conforming FE and VEM."
   ]
  },
  {
   "cell_type": "code",
   "execution_count": null,
   "metadata": {
    "collapsed": false,
    "deletable": true,
    "editable": true
   },
   "outputs": [],
   "source": [
    "def compute(agglomerate):\n",
    "    bounding_box = numpy.array([0., 1., 0., 1.]) # [x_min, x_max, y_min, y_max]\n",
    "    points, triangles = triangulated_voronoi(agglomerate.voronoi_points, bounding_box)\n",
    "    grid = create.grid(\"ALUSimplex\", {'vertices':points, 'simplices':triangles}, dimgrid=2)\n",
    "\n",
    "    print(\"grid size:\",grid.size(0))\n",
    "        \n",
    "    uflSpace = dune.ufl.Space((grid.dimGrid, grid.dimWorld), 1, field=\"double\")\n",
    "    u = TrialFunction(uflSpace)\n",
    "    v = TestFunction(uflSpace)\n",
    "    x = SpatialCoordinate(uflSpace.cell())\n",
    "    exact = as_vector( [cos(2.*pi*x[0])*cos(2.*pi*x[1])] )\n",
    "    a = (inner(grad(u), grad(v)) + inner(u,v)) * dx\n",
    "    a = a + 20./(u[0]*u[0]+1.) * v[0] * dx\n",
    "    model = create.model(\"elliptic\", grid, a==0, exact=exact ) # , dirichlet={ 1:exact } )\n",
    "\n",
    "    interpol_lag, df_lag = solve(grid,None,       model,exact,\"h1\",\"Lagrange\",\"h1\")\n",
    "    interpol_vem, df_vem = solve(grid,agglomerate,model,exact,\"vem\",\"AgglomeratedVEM\",\"vem\")\n",
    "\n",
    "    grid.writeVTK(\"agglomerate\"+agglomerate.suffix,\n",
    "            pointdata=[ df_vem, interpol_vem ],\n",
    "            celldata =[ create.function(\"local\",grid,\"cells\",1,lambda en,x: [agglomerate(en)]) ])"
   ]
  },
  {
   "cell_type": "code",
   "execution_count": null,
   "metadata": {
    "collapsed": false,
    "deletable": true,
    "editable": true,
    "scrolled": false
   },
   "outputs": [],
   "source": [
    "dune.fem.parameter.append(\"../data/parameter\")\n",
    "compute(Agglomerate(71))"
   ]
  },
  {
   "cell_type": "code",
   "execution_count": null,
   "metadata": {
    "collapsed": false,
    "deletable": true,
    "editable": true
   },
   "outputs": [],
   "source": []
  }
 ],
 "metadata": {},
 "nbformat": 4,
 "nbformat_minor": 2
}
