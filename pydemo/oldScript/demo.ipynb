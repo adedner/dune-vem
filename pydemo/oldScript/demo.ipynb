{
 "cells": [
  {
   "cell_type": "markdown",
   "metadata": {},
   "source": [
    "# Demonstration notebook for the DUNE-VEM module\n",
    "This module is based on DUNE-FEM # (https://www.dune-project.org/modules/dune-fem)\n",
    "and provides a Python frontend based on the new Python extension to DUNE\n",
    "(https://dune-project.org/modules/dune-python)\n",
    "\n",
    "## Laplace problem\n",
    "\n",
    "We first consider a simple Laplace problem with Dirichlet boundary conditions\n",
    "\\begin{align*}\n",
    "  -\\Delta u &= f, && \\text{in } \\Omega, \\\\\n",
    "          u &= g, && \\text{on } \\partial\\Omega,\n",
    "\\end{align*}\n",
    "with $\\Omega=[-\\frac{1}{2},1]^2$ and choosing the forcing and the boundary conditions\n",
    "so that the exact solution is equal to\n",
    "\\begin{align*}\n",
    "  u(x,y) &= xy\\cos(\\pi xy)\n",
    "\\end{align*}\n",
    "\n",
    "First some setup code:"
   ]
  },
  {
   "cell_type": "code",
   "execution_count": null,
   "metadata": {
    "collapsed": false
   },
   "outputs": [],
   "source": [
    "try:\n",
    "    get_ipython().magic(u'matplotlib nbagg')\n",
    "    import matplotlib\n",
    "    matplotlib.rc( 'image', cmap='rainbow' )\n",
    "except:\n",
    "    pass\n",
    "import math\n",
    "from dune import create\n",
    "from dune.grid import cartesianDomain, gridFunction\n",
    "from dune.fem.plotting import plotPointData as plot\n",
    "from dune.fem.function import integrate\n",
    "from dune.fem import parameter\n",
    "from dune.vem import voronoiCells\n",
    "\n",
    "from ufl import *\n",
    "import dune.ufl\n",
    "\n",
    "dune.fem.parameter.append({\"fem.verboserank\": 0})"
   ]
  },
  {
   "cell_type": "markdown",
   "metadata": {},
   "source": [
    "we can compare different method, e.g., a lagrange space (on the # subtriangulation),\n",
    "a bounding box dg space and a conforming/non conforming VEM space"
   ]
  },
  {
   "cell_type": "code",
   "execution_count": null,
   "metadata": {
    "collapsed": false
   },
   "outputs": [],
   "source": [
    "methods = [ ### \"[space,scheme,spaceKwrags]\"\n",
    "            [\"lagrange\",\"h1\",{}],\n",
    "            [\"vem\",\"vem\",{\"conforming\":True}],\n",
    "            [\"vem\",\"vem\",{\"conforming\":False}],\n",
    "            [\"bbdg\",\"bbdg\",{}],\n",
    "   ]\n",
    "parameters = {\"newton.linear.tolerance\": 1e-12,\n",
    "              \"newton.linear.preconditioning.method\": \"ilu\",\n",
    "              \"penalty\": 40,  # for the bbdg scheme\n",
    "              \"newton.linear.verbose\": False,\n",
    "              }"
   ]
  },
  {
   "cell_type": "markdown",
   "metadata": {},
   "source": [
    "Now we define the model starting with the exact solution:"
   ]
  },
  {
   "cell_type": "code",
   "execution_count": null,
   "metadata": {
    "collapsed": false
   },
   "outputs": [],
   "source": [
    "uflSpace = dune.ufl.Space(2, dimRange=1)\n",
    "x = SpatialCoordinate(uflSpace)\n",
    "exact = as_vector( [x[0]*x[1] * cos(pi*x[0]*x[1])] )\n",
    "\n",
    "# next the bilinear form\n",
    "u = TrialFunction(uflSpace)\n",
    "v = TestFunction(uflSpace)\n",
    "a = (inner(grad(u),grad(v))) * dx\n",
    "\n",
    "# finally the right hand side and the boundary conditions\n",
    "b = -div(grad(exact[0])) * v[0] * dx\n",
    "dbc = [dune.ufl.DirichletBC(uflSpace, exact, i+1) for i in range(4)]"
   ]
  },
  {
   "cell_type": "markdown",
   "metadata": {},
   "source": [
    "Now we define a grid build up of voronoi cells around $50$ random points"
   ]
  },
  {
   "cell_type": "code",
   "execution_count": null,
   "metadata": {
    "collapsed": false
   },
   "outputs": [],
   "source": [
    "constructor = cartesianDomain([-0.5,-0.5],[1,1],[1,1])\n",
    "polyGrid = create.grid(\"polygrid\", voronoiCells(constructor,50) )"
   ]
  },
  {
   "cell_type": "markdown",
   "metadata": {},
   "source": [
    "In general we can construct a `polygrid` by providing a dictionary with\n",
    "the `vertices` and the `polygons`. The `voronoiCells` function creates\n",
    "such a dictonary using random seeds to generate voronoi cells which are\n",
    "cut off using the provided `cartesianDomain`. The seeds can be\n",
    "provided as list of points as second argument:\n",
    "```\n",
    "voronoiCells(constructor, towers, fileName=None, load=False):\n",
    "```\n",
    "If a `fileName` is provided the seeds will be written to disc and loaded\n",
    "from that file is `load=True`. As an example the output of\n",
    "`voronoiCells(constructor,5)` is\n",
    "```\n",
    "{'polygons': [ [4, 5, 2, 3], [ 8, 10,  9,  7], [7, 9, 1, 3, 4],\n",
    "               [11, 10,  8,  0], [8, 0, 6, 5, 4, 7] ],\n",
    " 'vertices': [ [ 0.438, 1.  ],    [ 1. , -0.5 ],\n",
    "               [-0.5, -0.5  ],    [ 0.923, -0.5 ],\n",
    "               [ 0.248,  0.2214], [-0.5,  0.3027],\n",
    "               [-0.5,  1. ],      [ 0.407,0.4896],\n",
    "               [ 0.414,  0.525],  [ 1.,  0.57228],\n",
    "               [ 1., 0.88293],    [ 1.,  1. ] ] }\n",
    "```\n",
    "\n",
    "Let's take a look at the grid with the 50 polygons triangulated"
   ]
  },
  {
   "cell_type": "code",
   "execution_count": null,
   "metadata": {
    "collapsed": false
   },
   "outputs": [],
   "source": [
    "@gridFunction(polyGrid, name=\"cells\")\n",
    "def polygons(en,x):\n",
    "    return polyGrid.hierarchicalGrid.agglomerate(en)\n",
    "polygons.plot()"
   ]
  },
  {
   "cell_type": "markdown",
   "metadata": {},
   "source": [
    "We now define a function to compute the solution and the $L^2,H^1$ error\n",
    "given a grid and a space"
   ]
  },
  {
   "cell_type": "code",
   "execution_count": null,
   "metadata": {
    "collapsed": false
   },
   "outputs": [],
   "source": [
    "def compute(grid, space, schemeName):\n",
    "    # solve the pde\n",
    "    scheme = create.scheme(schemeName, [a==b, *dbc], space, solver=\"cg\", parameters=parameters)\n",
    "    df = space.interpolate([0],name=\"solution\")\n",
    "    info = scheme.solve(target=df)\n",
    "\n",
    "    # compute the error\n",
    "    edf = exact-df\n",
    "    errors = [ math.sqrt(e) for e in\n",
    "               integrate(grid, [inner(edf,edf),inner(grad(edf),grad(edf))], order=5) ]\n",
    "\n",
    "    return df, errors"
   ]
  },
  {
   "cell_type": "markdown",
   "metadata": {},
   "source": [
    "Finally we iterate over the requested methods and solve the problems"
   ]
  },
  {
   "cell_type": "code",
   "execution_count": null,
   "metadata": {
    "collapsed": false
   },
   "outputs": [],
   "source": [
    "for m in methods:\n",
    "    space = create.space(m[0], polyGrid, order=2, dimRange=1, storage=\"istl\", **m[2])\n",
    "    dfs,errors = compute(polyGrid, space, m[1])\n",
    "    print(\"Size: \",space.size, \"L^2: \", errors[0], \"H^1: \", errors[1])\n",
    "    dfs.plot(gridLines=None)"
   ]
  },
  {
   "cell_type": "markdown",
   "metadata": {},
   "source": [
    "## Nonlinear elliptic problem\n",
    "We can easily set up a non linear problem\n",
    "\\begin{align*}\n",
    "\\end{align*}"
   ]
  },
  {
   "cell_type": "code",
   "execution_count": null,
   "metadata": {
    "collapsed": false
   },
   "outputs": [],
   "source": [
    "space = create.space(\"vem\", polyGrid, order=2, dimRange=1, storage=\"istl\",\n",
    "                     conforming=True)\n",
    "u = TrialFunction(space)\n",
    "v = TestFunction(space)\n",
    "x = SpatialCoordinate(space)\n",
    "exact = as_vector ( [  (x[0] - x[0]*x[0] ) * (x[1] - x[1]*x[1] ) ] )\n",
    "Dcoeff = lambda u: 1.0 + u[0]**2\n",
    "a = (Dcoeff(u) * inner(grad(u), grad(v)) ) * dx\n",
    "b = -div( Dcoeff(exact) * grad(exact[0]) ) * v[0] * dx\n",
    "dbcs = [dune.ufl.DirichletBC(space, exact, i+1) for i in range(4)]\n",
    "scheme = create.scheme(\"vem\", [a==b, *dbcs], space, solver=\"cg\", parameters=parameters)\n",
    "solution = space.interpolate([0], name=\"solution\")\n",
    "info = scheme.solve(target=solution)\n",
    "solution.plot(gridLines=None)"
   ]
  },
  {
   "cell_type": "markdown",
   "metadata": {},
   "source": [
    "## Linear Elasticity\n",
    "As final example we solve a linear elasticity equation usign a\n",
    "conforming VEM space:\n",
    "\n",
    "First we setup the domain"
   ]
  },
  {
   "cell_type": "code",
   "execution_count": null,
   "metadata": {
    "collapsed": false
   },
   "outputs": [],
   "source": [
    "L, W = 1, 0.2\n",
    "\n",
    "constructor = cartesianDomain([0,0],[L,W],[1,1])\n",
    "polyGrid = create.grid(\"polygrid\", voronoiCells(constructor,64) )\n",
    "@gridFunction(polyGrid, name=\"cells\")\n",
    "def polygons(en,x):\n",
    "    return polyGrid.hierarchicalGrid.agglomerate(en)\n",
    "polygons.plot()\n",
    "\n",
    "space = create.space(\"vem\", polyGrid, order=2, dimRange=2, storage=\"istl\",\n",
    "                     conforming=True)"
   ]
  },
  {
   "cell_type": "code",
   "execution_count": null,
   "metadata": {
    "collapsed": false
   },
   "outputs": [],
   "source": [
    "# some model constants\n",
    "mu = 1\n",
    "rho = 1\n",
    "delta = W/L\n",
    "gamma = 0.4*delta**2\n",
    "beta = 1.25\n",
    "lambda_ = beta\n",
    "g = gamma\n",
    "\n",
    "# clamped boundary on the left\n",
    "x = SpatialCoordinate(space)\n",
    "dbc = dune.ufl.DirichletBC(space, as_vector([0,0]), x[0]<1e-10)\n",
    "\n",
    "# Define strain and stress\n",
    "def epsilon(u):\n",
    "    return 0.5*(nabla_grad(u) + nabla_grad(u).T)\n",
    "def sigma(u):\n",
    "    return lambda_*nabla_div(u)*Identity(2) + 2*mu*epsilon(u)\n",
    "\n",
    "# Define the variational problem\n",
    "u = TrialFunction(space)\n",
    "v = TestFunction(space)\n",
    "f = dune.ufl.Constant((0, -rho*g))\n",
    "a = inner(sigma(u), epsilon(v))*dx\n",
    "b = dot(as_vector([0,-rho*g]),v)*dx\n",
    "\n",
    "# Compute solution\n",
    "displacement = space.interpolate([0,0], name=\"displacement\")\n",
    "scheme = create.scheme(\"vem\", [a==b, dbc], space, solver=\"cg\", parameters=parameters)\n",
    "info = scheme.solve(target=displacement)"
   ]
  },
  {
   "cell_type": "markdown",
   "metadata": {},
   "source": [
    "Show the magnitude of the displacement field"
   ]
  },
  {
   "cell_type": "code",
   "execution_count": null,
   "metadata": {
    "collapsed": false
   },
   "outputs": [],
   "source": [
    "displacement.plot(gridLines=None)"
   ]
  },
  {
   "cell_type": "markdown",
   "metadata": {},
   "source": [
    "We can easily plot the stress"
   ]
  },
  {
   "cell_type": "code",
   "execution_count": null,
   "metadata": {
    "collapsed": false
   },
   "outputs": [],
   "source": [
    "s = sigma(displacement) - (1./3)*tr(sigma(displacement))*Identity(2)  # deviatoric stress\n",
    "von_Mises = sqrt(3./2*inner(s, s))\n",
    "plot(von_Mises, grid=polyGrid, gridLines=None)"
   ]
  },
  {
   "cell_type": "markdown",
   "metadata": {},
   "source": [
    "Finally we can plot the actual displaced beam"
   ]
  },
  {
   "cell_type": "code",
   "execution_count": null,
   "metadata": {
    "collapsed": false
   },
   "outputs": [],
   "source": [
    "from dune.fem.view import geometryGridView\n",
    "position = space.interpolate( x+displacement, name=\"position\" )\n",
    "beam = geometryGridView( position )\n",
    "beam.plot()"
   ]
  }
 ],
 "metadata": {},
 "nbformat": 4,
 "nbformat_minor": 2
}
